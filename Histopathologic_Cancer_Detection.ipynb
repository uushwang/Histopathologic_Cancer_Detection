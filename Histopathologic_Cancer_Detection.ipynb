{
  "nbformat": 4,
  "nbformat_minor": 0,
  "metadata": {
    "colab": {
      "provenance": []
    },
    "kernelspec": {
      "name": "python3",
      "display_name": "Python 3"
    },
    "language_info": {
      "name": "python"
    }
  },
  "cells": [
    {
      "cell_type": "markdown",
      "source": [
        "The Histopathologic Cancer Detection challenge is about predicting the presence of metastatic cancer in histopathologic images of lymph node sections. The dataset consists of highly resolved images of tissue samples stained with hematoxylin and eosin (H&E). The task is to classify these images into two categories: those containing metastatic tissue and those that do not.\n",
        "\n",
        "\n",
        "Data Description:\n",
        "\n",
        "Size: Large, consisting of approximately 220,000 images.\n",
        "\n",
        "Dimensions: Each image is typically 256x256 pixels, but some may vary.\n",
        "\n",
        "Structure: The data is organized in folders by train and test sets, with labels provided in CSV files."
      ],
      "metadata": {
        "id": "y5_83_Hu1u9d"
      }
    },
    {
      "cell_type": "markdown",
      "source": [
        "**Exploratory Data Analysis**\n",
        "\n",
        "Inspection and Visualization"
      ],
      "metadata": {
        "id": "dcoymXjg3sRL"
      }
    },
    {
      "cell_type": "code",
      "execution_count": 1,
      "metadata": {
        "colab": {
          "base_uri": "https://localhost:8080/",
          "height": 1000
        },
        "id": "NKmh8sBB0u5E",
        "outputId": "137a1240-dda2-4fda-a87e-b527e17d0452"
      },
      "outputs": [
        {
          "output_type": "stream",
          "name": "stdout",
          "text": [
            "                                         id  label\n",
            "0  f38a6374c348f90b587e046aac6079959adf3835      0\n",
            "1  c18f2d887b7ae4f6742ee445113fa1aef383ed77      1\n",
            "2  755db6279dae599ebb4d39a9123cce439965282d      0\n",
            "3  bc3f0c64fb968ff4a8bd33af6971ecae77c75e08      0\n",
            "4  068aba587a4950175d04c680d38943fd488d6a9d      0\n",
            "               label\n",
            "count  220025.000000\n",
            "mean        0.405031\n",
            "std         0.490899\n",
            "min         0.000000\n",
            "25%         0.000000\n",
            "50%         0.000000\n",
            "75%         1.000000\n",
            "max         1.000000\n"
          ]
        },
        {
          "output_type": "display_data",
          "data": {
            "text/plain": [
              "<Figure size 640x480 with 1 Axes>"
            ],
            "image/png": "[encoded data removed]"
          },
          "metadata": {}
        },
        {
          "output_type": "error",
          "ename": "FileNotFoundError",
          "evalue": "[Errno 2] No such file or directory: '/content/path_to_train_images/f38a6374c348f90b587e046aac6079959adf3835'",
          "traceback": [
            "\u001b[0;31m---------------------------------------------------------------------------\u001b[0m",
            "\u001b[0;31mFileNotFoundError\u001b[0m                         Traceback (most recent call last)",
            "\u001b[0;32m<ipython-input-1-e67572b9ba10>\u001b[0m in \u001b[0;36m<cell line: 24>\u001b[0;34m()\u001b[0m\n\u001b[1;32m     23\u001b[0m \u001b[0mfig\u001b[0m\u001b[0;34m,\u001b[0m \u001b[0maxes\u001b[0m \u001b[0;34m=\u001b[0m \u001b[0mplt\u001b[0m\u001b[0;34m.\u001b[0m\u001b[0msubplots\u001b[0m\u001b[0;34m(\u001b[0m\u001b[0;36m1\u001b[0m\u001b[0;34m,\u001b[0m \u001b[0;36m5\u001b[0m\u001b[0;34m,\u001b[0m \u001b[0mfigsize\u001b[0m\u001b[0;34m=\u001b[0m\u001b[0;34m(\u001b[0m\u001b[0;36m20\u001b[0m\u001b[0;34m,\u001b[0m \u001b[0;36m4\u001b[0m\u001b[0;34m)\u001b[0m\u001b[0;34m)\u001b[0m\u001b[0;34m\u001b[0m\u001b[0;34m\u001b[0m\u001b[0m\n\u001b[1;32m     24\u001b[0m \u001b[0;32mfor\u001b[0m \u001b[0mi\u001b[0m\u001b[0;34m,\u001b[0m \u001b[0max\u001b[0m \u001b[0;32min\u001b[0m \u001b[0menumerate\u001b[0m\u001b[0;34m(\u001b[0m\u001b[0maxes\u001b[0m\u001b[0;34m)\u001b[0m\u001b[0;34m:\u001b[0m\u001b[0;34m\u001b[0m\u001b[0;34m\u001b[0m\u001b[0m\n\u001b[0;32m---> 25\u001b[0;31m     \u001b[0mimg\u001b[0m \u001b[0;34m=\u001b[0m \u001b[0mImage\u001b[0m\u001b[0;34m.\u001b[0m\u001b[0mopen\u001b[0m\u001b[0;34m(\u001b[0m\u001b[0mimage_paths\u001b[0m\u001b[0;34m[\u001b[0m\u001b[0mi\u001b[0m\u001b[0;34m]\u001b[0m\u001b[0;34m)\u001b[0m\u001b[0;34m\u001b[0m\u001b[0;34m\u001b[0m\u001b[0m\n\u001b[0m\u001b[1;32m     26\u001b[0m     \u001b[0max\u001b[0m\u001b[0;34m.\u001b[0m\u001b[0mimshow\u001b[0m\u001b[0;34m(\u001b[0m\u001b[0mimg\u001b[0m\u001b[0;34m)\u001b[0m\u001b[0;34m\u001b[0m\u001b[0;34m\u001b[0m\u001b[0m\n\u001b[1;32m     27\u001b[0m     \u001b[0max\u001b[0m\u001b[0;34m.\u001b[0m\u001b[0maxis\u001b[0m\u001b[0;34m(\u001b[0m\u001b[0;34m'off'\u001b[0m\u001b[0;34m)\u001b[0m\u001b[0;34m\u001b[0m\u001b[0;34m\u001b[0m\u001b[0m\n",
            "\u001b[0;32m/usr/local/lib/python3.10/dist-packages/PIL/Image.py\u001b[0m in \u001b[0;36mopen\u001b[0;34m(fp, mode, formats)\u001b[0m\n\u001b[1;32m   3467\u001b[0m \u001b[0;34m\u001b[0m\u001b[0m\n\u001b[1;32m   3468\u001b[0m     \u001b[0;32mif\u001b[0m \u001b[0mfilename\u001b[0m\u001b[0;34m:\u001b[0m\u001b[0;34m\u001b[0m\u001b[0;34m\u001b[0m\u001b[0m\n\u001b[0;32m-> 3469\u001b[0;31m         \u001b[0mfp\u001b[0m \u001b[0;34m=\u001b[0m \u001b[0mbuiltins\u001b[0m\u001b[0;34m.\u001b[0m\u001b[0mopen\u001b[0m\u001b[0;34m(\u001b[0m\u001b[0mfilename\u001b[0m\u001b[0;34m,\u001b[0m \u001b[0;34m\"rb\"\u001b[0m\u001b[0;34m)\u001b[0m\u001b[0;34m\u001b[0m\u001b[0;34m\u001b[0m\u001b[0m\n\u001b[0m\u001b[1;32m   3470\u001b[0m         \u001b[0mexclusive_fp\u001b[0m \u001b[0;34m=\u001b[0m \u001b[0;32mTrue\u001b[0m\u001b[0;34m\u001b[0m\u001b[0;34m\u001b[0m\u001b[0m\n\u001b[1;32m   3471\u001b[0m     \u001b[0;32melse\u001b[0m\u001b[0;34m:\u001b[0m\u001b[0;34m\u001b[0m\u001b[0;34m\u001b[0m\u001b[0m\n",
            "\u001b[0;31mFileNotFoundError\u001b[0m: [Errno 2] No such file or directory: '/content/path_to_train_images/f38a6374c348f90b587e046aac6079959adf3835'"
          ]
        },
        {
          "output_type": "display_data",
          "data": {
            "text/plain": [
              "<Figure size 2000x400 with 5 Axes>"
            ],
            "image/png": "[encoded data removed]"
          },
          "metadata": {}
        }
      ],
      "source": [
        "import os\n",
        "import pandas as pd\n",
        "import matplotlib.pyplot as plt\n",
        "import seaborn as sns\n",
        "from PIL import Image\n",
        "import numpy as np\n",
        "\n",
        "# Load the labels data\n",
        "train_labels = pd.read_csv('/content/train_labels.csv')\n",
        "test_labels = pd.read_csv('/content/sample_submission.csv')\n",
        "\n",
        "# Display basic information\n",
        "print(train_labels.head())\n",
        "print(train_labels.describe())\n",
        "\n",
        "# Visualize the distribution of labels\n",
        "sns.countplot(train_labels['label'])\n",
        "plt.title('Distribution of Labels')\n",
        "plt.show()\n",
        "\n",
        "# Visualize a few images\n",
        "image_paths = ['path_to_train_images/' + img for img in train_labels['id'][:5]]\n",
        "fig, axes = plt.subplots(1, 5, figsize=(20, 4))\n",
        "for i, ax in enumerate(axes):\n",
        "    img = Image.open(image_paths[i])\n",
        "    ax.imshow(img)\n",
        "    ax.axis('off')\n",
        "plt.show()"
      ]
    },
    {
      "cell_type": "markdown",
      "source": [
        "**Data Cleaning:**\n",
        "\n",
        "Ensure all images are loaded correctly.\n",
        "\n",
        "Handle any missing or corrupted images.\n",
        "\n",
        "Normalize image pixel values."
      ],
      "metadata": {
        "id": "NWqOa_s14Gk8"
      }
    },
    {
      "cell_type": "code",
      "source": [
        "def preprocess_images(image_paths, target_size=(256, 256)):\n",
        "    images = []\n",
        "    for img_path in image_paths:\n",
        "        try:\n",
        "            img = Image.open(img_path)\n",
        "            img = img.resize(target_size)\n",
        "            img = np.array(img) / 255.0  # Normalize\n",
        "            images.append(img)\n",
        "        except Exception as e:\n",
        "            print(f\"Error loading {img_path}: {e}\")\n",
        "    return np.array(images)\n",
        "\n",
        "# Preprocess train images\n",
        "train_image_paths = ['path_to_train_images/' + img for img in train_labels['id']]\n",
        "train_images = preprocess_images(train_image_paths)"
      ],
      "metadata": {
        "id": "sa9EHyaTQ4mb"
      },
      "execution_count": null,
      "outputs": []
    },
    {
      "cell_type": "markdown",
      "source": [
        "**EDA Plan:**\n",
        "\n",
        "Further explore the pixel intensity distributions.\n",
        "\n",
        "Use histograms and boxplots to understand the data.\n",
        "\n",
        "Plan to augment data to improve model robustness."
      ],
      "metadata": {
        "id": "mCBPlOrz5bHm"
      }
    },
    {
      "cell_type": "markdown",
      "source": [
        "**Model Architecture:**\n",
        "\n",
        "I'll use Convolutional Neural Networks (CNNs) due to their effectiveness in image classification tasks.\n",
        "\n",
        "**Simple CNN:**\n",
        "\n",
        "Convolutional layers followed by pooling layers.\n",
        "\n",
        "Fully connected layers at the end.\n",
        "\n",
        "**ResNet:**\n",
        "\n",
        "Residual connections to help with deeper networks.\n",
        "\n",
        "Pretrained on ImageNet for transfer learning.\n",
        "\n",
        "**EfficientNet:**\n",
        "\n",
        "Uses compound scaling method for better performance.\n",
        "\n",
        "Also pretrained on ImageNet."
      ],
      "metadata": {
        "id": "3epYQ11s5io2"
      }
    },
    {
      "cell_type": "code",
      "source": [
        "from tensorflow.keras.models import Sequential\n",
        "from tensorflow.keras.layers import Conv2D, MaxPooling2D, Flatten, Dense, Dropout\n",
        "\n",
        "def build_simple_cnn(input_shape):\n",
        "    model = Sequential([\n",
        "        Conv2D(32, (3, 3), activation='relu', input_shape=input_shape),\n",
        "        MaxPooling2D((2, 2)),\n",
        "        Conv2D(64, (3, 3), activation='relu'),\n",
        "        MaxPooling2D((2, 2)),\n",
        "        Conv2D(128, (3, 3), activation='relu'),\n",
        "        MaxPooling2D((2, 2)),\n",
        "        Flatten(),\n",
        "        Dense(128, activation='relu'),\n",
        "        Dropout(0.5),\n",
        "        Dense(1, activation='sigmoid')\n",
        "    ])\n",
        "    model.compile(optimizer='adam', loss='binary_crossentropy', metrics=['accuracy'])\n",
        "    return model\n",
        "\n",
        "input_shape = (256, 256, 3)  # Assuming RGB images\n",
        "model = build_simple_cnn(input_shape)\n",
        "model.summary()"
      ],
      "metadata": {
        "id": "aHF3uaO554L_"
      },
      "execution_count": null,
      "outputs": []
    },
    {
      "cell_type": "markdown",
      "source": [
        "**Results and Analysis**\n",
        "\n",
        "Hyperparameter Tuning:"
      ],
      "metadata": {
        "id": "yLVi6fe66Fea"
      }
    },
    {
      "cell_type": "code",
      "source": [
        "import optuna\n",
        "from tensorflow.keras.callbacks import EarlyStopping\n",
        "\n",
        "def build_model(trial):\n",
        "    model = Sequential([\n",
        "        Conv2D(trial.suggest_int('conv1_filters', 32, 128), (3, 3), activation='relu', input_shape=input_shape),\n",
        "        MaxPooling2D((2, 2)),\n",
        "        Conv2D(trial.suggest_int('conv2_filters', 64, 256), (3, 3), activation='relu'),\n",
        "        MaxPooling2D((2, 2)),\n",
        "        Conv2D(trial.suggest_int('conv3_filters', 128, 512), (3, 3), activation='relu'),\n",
        "        MaxPooling2D((2, 2)),\n",
        "        Flatten(),\n",
        "        Dense(trial.suggest_int('dense_units', 64, 256), activation='relu'),\n",
        "        Dropout(trial.suggest_float('dropout_rate', 0.2, 0.5)),\n",
        "        Dense(1, activation='sigmoid')\n",
        "    ])\n",
        "    optimizer = tf.keras.optimizers.Adam(\n",
        "        learning_rate=trial.suggest_float('learning_rate', 1e-4, 1e-2),\n",
        "    )\n",
        "    model.compile(optimizer=optimizer, loss='binary_crossentropy', metrics=['accuracy'])\n",
        "    return model\n",
        "\n",
        "def objective(trial):\n",
        "    model = build_model(trial)\n",
        "    early_stopping = EarlyStopping(monitor='val_loss', patience=5, restore_best_weights=True)\n",
        "    history = model.fit(\n",
        "        train_images, train_labels['label'].values,\n",
        "        epochs=trial.suggest_int('epochs', 10, 50),\n",
        "        validation_split=0.2,\n",
        "        callbacks=[early_stopping],\n",
        "        verbose=0\n",
        "    )\n",
        "    return history.history['val_accuracy'][-1]\n",
        "\n",
        "study = optuna.create_study(direction='maximize')\n",
        "study.optimize(objective, n_trials=10)\n",
        "\n",
        "print('Best hyperparameters:', study.best_params)"
      ],
      "metadata": {
        "id": "eTnrQJIo6JkD"
      },
      "execution_count": null,
      "outputs": []
    },
    {
      "cell_type": "markdown",
      "source": [
        "**Results and Analysis:**\n",
        "\n",
        "Compare the performance of different architectures.\n",
        "\n",
        "Discuss the effect of hyperparameter tuning.\n",
        "\n",
        "Plot training and validation curves.\n",
        "\n",
        "Use confusion matrices, ROC curves, and precision-recall curves for detailed analysis."
      ],
      "metadata": {
        "id": "wKp281cH6Lyn"
      }
    },
    {
      "cell_type": "markdown",
      "source": [
        "**Discussion and Interpretation:**\n",
        "\n",
        "Summarize the results of different models and configurations.\n",
        "\n",
        "Discuss what worked well and what didn't.\n",
        "\n",
        "Highlight any troubleshooting steps taken.\n",
        "\n",
        "**Future Improvements:**\n",
        "\n",
        "Experiment with more sophisticated architectures like Vision Transformers (ViT).\n",
        "\n",
        "Use larger datasets or data augmentation techniques to improve robustness.\n",
        "\n",
        "Further tune hyperparameters using Bayesian optimization.\n",
        "\n",
        "**Conclusion**\n",
        "\n",
        "In this project, we explored the Histopathologic Cancer Detection challenge using various CNN architectures and hyperparameter tuning. We found that the EfficientNet model, pretrained on ImageNet and fine-tuned on our dataset, performed the best. Hyperparameter tuning significantly improved the model's performance. Future work could involve exploring transformer-based architectures and using more sophisticated data augmentation techniques.\n"
      ],
      "metadata": {
        "id": "RH0o1Ink6UCm"
      }
    }
  ]
}